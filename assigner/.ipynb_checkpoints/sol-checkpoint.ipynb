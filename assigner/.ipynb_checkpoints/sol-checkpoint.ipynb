{
 "cells": [
  {
   "cell_type": "code",
   "execution_count": 1,
   "id": "ed5bf5bc",
   "metadata": {},
   "outputs": [],
   "source": [
    "import sys\n",
    "import time\n",
    "import pandas as pd\n",
    "from collections import defaultdict\n",
    "import itertools"
   ]
  },
  {
   "cell_type": "code",
   "execution_count": 2,
   "id": "2b7e1201",
   "metadata": {},
   "outputs": [],
   "source": [
    "def solver(input_file):\n",
    "    \"\"\"\n",
    "    1. This function should take the name of a .txt input file in the format indicated in the assignment.\n",
    "    2. It should return a dictionary with the following keys:\n",
    "        - \"assigned-groups\" : a list of groups assigned by the program, each consisting of usernames separated by hyphens\n",
    "        - \"total-cost\" : total cost (time spent by instructors in minutes) in the group assignment\n",
    "    3. Do not add any extra parameters to the solver() function, or it will break our grading and testing code.\n",
    "    4. Please do not use any global variables, as it may cause the testing code to fail.\n",
    "    5. To handle the fact that some problems may take longer than others, and you don't know ahead of time how\n",
    "       much time it will take to find the best solution, you can compute a series of solutions and then\n",
    "       call \"yield\" to return that preliminary solution. Your program can continue yielding multiple times;\n",
    "       our test program will take the last answer you 'yielded' once time expired.\n",
    "    \"\"\"\n",
    "\n",
    "    # Simple example. First we yield a quick solution\n",
    "    yield({\"assigned-groups\": [\"vibvats-djcran-zkachwal\", \"shah12\", \"vrmath\"],\n",
    "               \"total-cost\" : 12})\n",
    "\n",
    "    # Then we think a while and return another solution:\n",
    "    time.sleep(10)\n",
    "    yield({\"assigned-groups\": [\"vibvats-djcran-zkachwal\", \"shah12-vrmath\"],\n",
    "               \"total-cost\" : 10})\n",
    "\n",
    "    # This solution will never befound, but that's ok; program will be killed eventually by the\n",
    "    #  test script.\n",
    "    while True:\n",
    "        pass\n",
    "    \n",
    "    yield({\"assigned-groups\": [\"vibvats-djcran\", \"zkachwal-shah12-vrmath\"],\n",
    "               \"total-cost\" : 9})\n",
    "    \n",
    "def read_file():\n",
    "    file = open(input_file, \"r\")\n",
    "    data_dict = defaultdict(list)\n",
    "\n",
    "    for line in file:\n",
    "        if line != \"\\n\":\n",
    "            elements =  line.split(\" \")\n",
    "            name = elements[0].strip()\n",
    "            size = elements[1].strip()\n",
    "            like = elements[2].strip()\n",
    "            dislike = elements[3].strip()\n",
    "\n",
    "            data_dict[name].append(size)\n",
    "            data_dict[name].append(like)\n",
    "            data_dict[name].append(dislike)\n",
    "\n",
    "    return data_dict\n",
    "\n"
   ]
  },
  {
   "cell_type": "code",
   "execution_count": null,
   "id": "4f1f7c8c",
   "metadata": {},
   "outputs": [
    {
     "name": "stdout",
     "output_type": "stream",
     "text": [
      "----- Latest solution:\n",
      "vibvats-djcran-zkachwal\n",
      "shah12\n",
      "vrmath\n",
      "\n",
      "Assignment cost: 12 \n",
      "\n",
      "----- Latest solution:\n",
      "vibvats-djcran-zkachwal\n",
      "shah12-vrmath\n",
      "\n",
      "Assignment cost: 10 \n",
      "\n"
     ]
    }
   ],
   "source": [
    "# if(len(sys.argv) != 2):\n",
    "#     raise(Exception(\"Error: expected an input filename\"))\n",
    "\n",
    "for result in solver('test2.txt'):\n",
    "    print(\"----- Latest solution:\\n\" + \"\\n\".join(result[\"assigned-groups\"]))\n",
    "    print(\"\\nAssignment cost: %d \\n\" % result[\"total-cost\"])"
   ]
  },
  {
   "cell_type": "code",
   "execution_count": null,
   "id": "ecae9ad2",
   "metadata": {},
   "outputs": [],
   "source": []
  }
 ],
 "metadata": {
  "kernelspec": {
   "display_name": "Python 3",
   "language": "python",
   "name": "python3"
  },
  "language_info": {
   "codemirror_mode": {
    "name": "ipython",
    "version": 3
   },
   "file_extension": ".py",
   "mimetype": "text/x-python",
   "name": "python",
   "nbconvert_exporter": "python",
   "pygments_lexer": "ipython3",
   "version": "3.8.8"
  }
 },
 "nbformat": 4,
 "nbformat_minor": 5
}
