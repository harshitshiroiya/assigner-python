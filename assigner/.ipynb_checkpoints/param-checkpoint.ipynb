{
 "cells": [
  {
   "cell_type": "code",
   "execution_count": null,
   "id": "f0b759b7",
   "metadata": {},
   "outputs": [],
   "source": [
    "#!/usr/local/bin/python3\n",
    "# assign.py : Assign people to teams\n",
    "#\n",
    "# Code by: name IU ID\n",
    "#\n",
    "# Based on skeleton code by D. Crandall and B551 Staff, September 2021\n",
    "#\n",
    "\n"
   ]
  },
  {
   "cell_type": "code",
   "execution_count": 5,
   "id": "7afdf123",
   "metadata": {},
   "outputs": [],
   "source": [
    "def no_of_teams(assigned_groups):\n",
    "    \n",
    "    # Adding 5 mins per team\n",
    "    cost = len(assigned_groups) * 5\n",
    "    \n",
    "    return cost"
   ]
  },
  {
   "cell_type": "code",
   "execution_count": 6,
   "id": "a83d8aaf",
   "metadata": {},
   "outputs": [],
   "source": [
    "def diff_grp_size(assigned_groups,df):\n",
    "    # Adding 2 mins for every wrong group size per student\n",
    "    \n",
    "    time = 0\n",
    "#     q = []\n",
    "#     for i in range(0, len(assigned_groups)):\n",
    "#         q.append(assigned_groups[i].split('-'))\n",
    "    for j in range(0, len(df)):\n",
    "        for k in range(0, len(assigned_groups)):\n",
    "            if df.iloc[j]['name'] in q[k]:\n",
    "                if len(q[k]) != len(df.iloc[j]['team preference'].split('-')):\n",
    "                    time += 2\n",
    "                    \n",
    "    return time"
   ]
  },
  {
   "cell_type": "code",
   "execution_count": 7,
   "id": "548ab328",
   "metadata": {},
   "outputs": [],
   "source": [
    "def avoid(assigned_groups, df):\n",
    "    q = []\n",
    "    time = 0\n",
    "    for i in range(0, len(assigned_groups)):\n",
    "        q.append(assigned_groups[i].split('-'))\n",
    "    for j in range(0, len(df)):\n",
    "        for k in range(0, len(q)):\n",
    "            for t in range(0, len(df.iloc[j]['avoid'].split(','))):\n",
    "                if (df.iloc[j]['name'] in q[k]) and (df.iloc[j]['avoid'].split(',')[t] in q[k]):\n",
    "                    time += 10\n",
    "                    \n",
    "    return time"
   ]
  },
  {
   "cell_type": "code",
   "execution_count": 8,
   "id": "cd0b01b3",
   "metadata": {},
   "outputs": [],
   "source": [
    "def diff_team(assigned_groups, df):\n",
    "    q = []\n",
    "    time = 0\n",
    "    for i in range(0, len(assigned_groups)):\n",
    "        q.append(assigned_groups[i].split('-'))\n",
    "    for j in range(0, len(df)):\n",
    "        for k in range(0, len(q)):\n",
    "            for t in range(0, len(df.iloc[j]['team preference'].split('-'))):\n",
    "                if (df.iloc[j]['name'] in q[k]) and (df.iloc[j]['team preference'].split('-')[t] not in q[k]) and (df.iloc[j]['team preference'].split('-')[t] != 'xxx'):\n",
    "                    time += 3\n",
    "                    \n",
    "    return time"
   ]
  },
  {
   "cell_type": "code",
   "execution_count": 9,
   "id": "084f8dd1",
   "metadata": {},
   "outputs": [],
   "source": [
    "def is_goal(assigned_groups, df):\n",
    "    l = 0\n",
    "    for i in range(len(assigned_groups)):\n",
    "        l += len(assigned_groups[i])\n",
    "    return len(df) == l"
   ]
  },
  {
   "cell_type": "code",
   "execution_count": 10,
   "id": "e9e52996",
   "metadata": {},
   "outputs": [],
   "source": [
    "def succ(slist, name):\n",
    "    \n",
    "    successor_list = []\n",
    "    possible_groups = team_comb(slist, name)\n",
    "    for newgroups in possible_groups:\n",
    "        tempGroup = [i.copy() for i in slist]\n",
    "        if newgroups not in slist:\n",
    "            tempGroup.append(newgroups)\n",
    "            successor_list.append(tempGroup)\n",
    "    return successor_list"
   ]
  },
  {
   "cell_type": "code",
   "execution_count": 11,
   "id": "81751a89",
   "metadata": {},
   "outputs": [],
   "source": [
    "def team_comb(slist, name):\n",
    "    not_assigned = []\n",
    "    groups = []\n",
    "    for i in name:\n",
    "        if i not in slist:\n",
    "            not_assigned.append(i)\n",
    "    \n",
    "    for j in range(1,4):\n",
    "        for k in itertools.combinations(not_assigned, j):\n",
    "            groups.append(list(k))\n",
    "            \n",
    "    return groups"
   ]
  },
  {
   "cell_type": "code",
   "execution_count": null,
   "id": "5286d9f3",
   "metadata": {},
   "outputs": [],
   "source": []
  },
  {
   "cell_type": "code",
   "execution_count": 12,
   "id": "ff73e19c",
   "metadata": {},
   "outputs": [],
   "source": [
    "import sys\n",
    "import time\n",
    "import pandas as pd\n",
    "import itertools\n",
    "\n",
    "def solver(input_file):\n",
    "    \"\"\"\n",
    "    1. This function should take the name of a .txt input file in the format indicated in the assignment.\n",
    "    2. It should return a dictionary with the following keys:\n",
    "        - \"assigned-groups\" : a list of groups assigned by the program, each consisting of usernames separated by hyphens\n",
    "        - \"total-cost\" : total cost (time spent by instructors in minutes) in the group assignment\n",
    "    3. Do not add any extra parameters to the solver() function, or it will break our grading and testing code.\n",
    "    4. Please do not use any global variables, as it may cause the testing code to fail.\n",
    "    5. To handle the fact that some problems may take longer than others, and you don't know ahead of time how\n",
    "       much time it will take to find the best solution, you can compute a series of solutions and then\n",
    "       call \"yield\" to return that preliminary solution. Your program can continue yielding multiple times;\n",
    "       our test program will take the last answer you 'yielded' once time expired.\n",
    "    \"\"\"\n",
    "\n",
    "\n",
    "    df = pd.read_csv(input_file, sep=' ', names = ['name', 'team preference', 'avoid'])\n",
    "\n",
    "    \n",
    "    result_dictionary = {'assigned-groups':[], 'total-cost':0}\n",
    "    \n",
    "\n",
    "    fringe = [result_dictionary['assigned-groups']]\n",
    "    probable_goal = []\n",
    "    probable_goal_time = sys.maxsize\n",
    "    while len(fringe) > 0:\n",
    "        for s in succ(fringe.pop(), df['name']):\n",
    "            if is_goal(s,df['name']):\n",
    "                s_time = no_of_teams(s) + avoid(s, df) + diff_team(s, df) + diff_grp_size(s, df)\n",
    "                if((probable_goal_time>s_time>20)):\n",
    "                    result = copy.deepcopy(result_dictionary)\n",
    "                    probable_goal = s\n",
    "                    probable_goal_time = s_time\n",
    "                    for group in probable_goal:\n",
    "                        str_grp = '-'.join(group)\n",
    "                        result[\"assigned-groups\"].append(str_grp)\n",
    "                    result[\"total-cost\"]=probable_goal_time\n",
    "                    yield(result)\n",
    "            fringe.append(s)\n",
    "    \n",
    "    \n",
    "    \n",
    "    \n",
    "#     # Simple example. First we yield a quick solution\n",
    "#     yield({\"assigned-groups\": [\"vibvats-djcran-zkachwal\", \"shah12\", \"vrmath\"],\n",
    "#                \"total-cost\" : 12})\n",
    "\n",
    "#     # Then we think a while and return another solution:\n",
    "#     time.sleep(10)\n",
    "#     yield({\"assigned-groups\": [\"vibvats-djcran-zkachwal\", \"shah12-vrmath\"],\n",
    "#                \"total-cost\" : 10})\n",
    "\n",
    "#     # This solution will never befound, but that's ok; program will be killed eventually by the\n",
    "#     #  test script.\n",
    "#     while True:\n",
    "#         pass\n",
    "    \n",
    "#     yield({\"assigned-groups\": [\"vibvats-djcran\", \"zkachwal-shah12-vrmath\"],\n",
    "#                \"total-cost\" : 9})"
   ]
  },
  {
   "cell_type": "code",
   "execution_count": 13,
   "id": "86648cc6",
   "metadata": {},
   "outputs": [
    {
     "ename": "AttributeError",
     "evalue": "'list' object has no attribute 'split'",
     "output_type": "error",
     "traceback": [
      "\u001b[0;31m---------------------------------------------------------------------------\u001b[0m",
      "\u001b[0;31mAttributeError\u001b[0m                            Traceback (most recent call last)",
      "\u001b[0;32m<ipython-input-13-29c0e595c12e>\u001b[0m in \u001b[0;36m<module>\u001b[0;34m\u001b[0m\n\u001b[1;32m      3\u001b[0m \u001b[0;31m#         raise(Exception(\"Error: expected an input filename\"))\u001b[0m\u001b[0;34m\u001b[0m\u001b[0;34m\u001b[0m\u001b[0;34m\u001b[0m\u001b[0m\n\u001b[1;32m      4\u001b[0m \u001b[0;34m\u001b[0m\u001b[0m\n\u001b[0;32m----> 5\u001b[0;31m     \u001b[0;32mfor\u001b[0m \u001b[0mresult\u001b[0m \u001b[0;32min\u001b[0m \u001b[0msolver\u001b[0m\u001b[0;34m(\u001b[0m\u001b[0;34m'test1.txt'\u001b[0m\u001b[0;34m)\u001b[0m\u001b[0;34m:\u001b[0m\u001b[0;34m\u001b[0m\u001b[0;34m\u001b[0m\u001b[0m\n\u001b[0m\u001b[1;32m      6\u001b[0m         \u001b[0mprint\u001b[0m\u001b[0;34m(\u001b[0m\u001b[0;34m\"----- Latest solution:\\n\"\u001b[0m \u001b[0;34m+\u001b[0m \u001b[0;34m\"\\n\"\u001b[0m\u001b[0;34m.\u001b[0m\u001b[0mjoin\u001b[0m\u001b[0;34m(\u001b[0m\u001b[0mresult\u001b[0m\u001b[0;34m[\u001b[0m\u001b[0;34m\"assigned-groups\"\u001b[0m\u001b[0;34m]\u001b[0m\u001b[0;34m)\u001b[0m\u001b[0;34m)\u001b[0m\u001b[0;34m\u001b[0m\u001b[0;34m\u001b[0m\u001b[0m\n\u001b[1;32m      7\u001b[0m         \u001b[0mprint\u001b[0m\u001b[0;34m(\u001b[0m\u001b[0;34m\"\\nAssignment cost: %d \\n\"\u001b[0m \u001b[0;34m%\u001b[0m \u001b[0mresult\u001b[0m\u001b[0;34m[\u001b[0m\u001b[0;34m\"total-cost\"\u001b[0m\u001b[0;34m]\u001b[0m\u001b[0;34m)\u001b[0m\u001b[0;34m\u001b[0m\u001b[0;34m\u001b[0m\u001b[0m\n",
      "\u001b[0;32m<ipython-input-12-e2d524ed9782>\u001b[0m in \u001b[0;36msolver\u001b[0;34m(input_file)\u001b[0m\n\u001b[1;32m     31\u001b[0m         \u001b[0;32mfor\u001b[0m \u001b[0ms\u001b[0m \u001b[0;32min\u001b[0m \u001b[0msucc\u001b[0m\u001b[0;34m(\u001b[0m\u001b[0mfringe\u001b[0m\u001b[0;34m.\u001b[0m\u001b[0mpop\u001b[0m\u001b[0;34m(\u001b[0m\u001b[0;34m)\u001b[0m\u001b[0;34m,\u001b[0m \u001b[0mdf\u001b[0m\u001b[0;34m[\u001b[0m\u001b[0;34m'name'\u001b[0m\u001b[0;34m]\u001b[0m\u001b[0;34m)\u001b[0m\u001b[0;34m:\u001b[0m\u001b[0;34m\u001b[0m\u001b[0;34m\u001b[0m\u001b[0m\n\u001b[1;32m     32\u001b[0m             \u001b[0;32mif\u001b[0m \u001b[0mis_goal\u001b[0m\u001b[0;34m(\u001b[0m\u001b[0ms\u001b[0m\u001b[0;34m,\u001b[0m\u001b[0mdf\u001b[0m\u001b[0;34m[\u001b[0m\u001b[0;34m'name'\u001b[0m\u001b[0;34m]\u001b[0m\u001b[0;34m)\u001b[0m\u001b[0;34m:\u001b[0m\u001b[0;34m\u001b[0m\u001b[0;34m\u001b[0m\u001b[0m\n\u001b[0;32m---> 33\u001b[0;31m                 \u001b[0ms_time\u001b[0m \u001b[0;34m=\u001b[0m \u001b[0mno_of_teams\u001b[0m\u001b[0;34m(\u001b[0m\u001b[0ms\u001b[0m\u001b[0;34m)\u001b[0m \u001b[0;34m+\u001b[0m \u001b[0mavoid\u001b[0m\u001b[0;34m(\u001b[0m\u001b[0ms\u001b[0m\u001b[0;34m,\u001b[0m \u001b[0mdf\u001b[0m\u001b[0;34m)\u001b[0m \u001b[0;34m+\u001b[0m \u001b[0mdiff_team\u001b[0m\u001b[0;34m(\u001b[0m\u001b[0ms\u001b[0m\u001b[0;34m,\u001b[0m \u001b[0mdf\u001b[0m\u001b[0;34m)\u001b[0m \u001b[0;34m+\u001b[0m \u001b[0mdiff_grp_size\u001b[0m\u001b[0;34m(\u001b[0m\u001b[0ms\u001b[0m\u001b[0;34m,\u001b[0m \u001b[0mdf\u001b[0m\u001b[0;34m)\u001b[0m\u001b[0;34m\u001b[0m\u001b[0;34m\u001b[0m\u001b[0m\n\u001b[0m\u001b[1;32m     34\u001b[0m                 \u001b[0;32mif\u001b[0m\u001b[0;34m(\u001b[0m\u001b[0;34m(\u001b[0m\u001b[0mprobable_goal_time\u001b[0m\u001b[0;34m>\u001b[0m\u001b[0ms_time\u001b[0m\u001b[0;34m>\u001b[0m\u001b[0;36m20\u001b[0m\u001b[0;34m)\u001b[0m\u001b[0;34m)\u001b[0m\u001b[0;34m:\u001b[0m\u001b[0;34m\u001b[0m\u001b[0;34m\u001b[0m\u001b[0m\n\u001b[1;32m     35\u001b[0m                     \u001b[0mresult\u001b[0m \u001b[0;34m=\u001b[0m \u001b[0mcopy\u001b[0m\u001b[0;34m.\u001b[0m\u001b[0mdeepcopy\u001b[0m\u001b[0;34m(\u001b[0m\u001b[0mresult_dictionary\u001b[0m\u001b[0;34m)\u001b[0m\u001b[0;34m\u001b[0m\u001b[0;34m\u001b[0m\u001b[0m\n",
      "\u001b[0;32m<ipython-input-7-f5ffa2e59da9>\u001b[0m in \u001b[0;36mavoid\u001b[0;34m(assigned_groups, df)\u001b[0m\n\u001b[1;32m      3\u001b[0m     \u001b[0mtime\u001b[0m \u001b[0;34m=\u001b[0m \u001b[0;36m0\u001b[0m\u001b[0;34m\u001b[0m\u001b[0;34m\u001b[0m\u001b[0m\n\u001b[1;32m      4\u001b[0m     \u001b[0;32mfor\u001b[0m \u001b[0mi\u001b[0m \u001b[0;32min\u001b[0m \u001b[0mrange\u001b[0m\u001b[0;34m(\u001b[0m\u001b[0;36m0\u001b[0m\u001b[0;34m,\u001b[0m \u001b[0mlen\u001b[0m\u001b[0;34m(\u001b[0m\u001b[0massigned_groups\u001b[0m\u001b[0;34m)\u001b[0m\u001b[0;34m)\u001b[0m\u001b[0;34m:\u001b[0m\u001b[0;34m\u001b[0m\u001b[0;34m\u001b[0m\u001b[0m\n\u001b[0;32m----> 5\u001b[0;31m         \u001b[0mq\u001b[0m\u001b[0;34m.\u001b[0m\u001b[0mappend\u001b[0m\u001b[0;34m(\u001b[0m\u001b[0massigned_groups\u001b[0m\u001b[0;34m[\u001b[0m\u001b[0mi\u001b[0m\u001b[0;34m]\u001b[0m\u001b[0;34m.\u001b[0m\u001b[0msplit\u001b[0m\u001b[0;34m(\u001b[0m\u001b[0;34m'-'\u001b[0m\u001b[0;34m)\u001b[0m\u001b[0;34m)\u001b[0m\u001b[0;34m\u001b[0m\u001b[0;34m\u001b[0m\u001b[0m\n\u001b[0m\u001b[1;32m      6\u001b[0m     \u001b[0;32mfor\u001b[0m \u001b[0mj\u001b[0m \u001b[0;32min\u001b[0m \u001b[0mrange\u001b[0m\u001b[0;34m(\u001b[0m\u001b[0;36m0\u001b[0m\u001b[0;34m,\u001b[0m \u001b[0mlen\u001b[0m\u001b[0;34m(\u001b[0m\u001b[0mdf\u001b[0m\u001b[0;34m)\u001b[0m\u001b[0;34m)\u001b[0m\u001b[0;34m:\u001b[0m\u001b[0;34m\u001b[0m\u001b[0;34m\u001b[0m\u001b[0m\n\u001b[1;32m      7\u001b[0m         \u001b[0;32mfor\u001b[0m \u001b[0mk\u001b[0m \u001b[0;32min\u001b[0m \u001b[0mrange\u001b[0m\u001b[0;34m(\u001b[0m\u001b[0;36m0\u001b[0m\u001b[0;34m,\u001b[0m \u001b[0mlen\u001b[0m\u001b[0;34m(\u001b[0m\u001b[0mq\u001b[0m\u001b[0;34m)\u001b[0m\u001b[0;34m)\u001b[0m\u001b[0;34m:\u001b[0m\u001b[0;34m\u001b[0m\u001b[0;34m\u001b[0m\u001b[0m\n",
      "\u001b[0;31mAttributeError\u001b[0m: 'list' object has no attribute 'split'"
     ]
    }
   ],
   "source": [
    "if __name__ == \"__main__\":\n",
    "#     if(len(sys.argv) != 2):\n",
    "#         raise(Exception(\"Error: expected an input filename\"))\n",
    "\n",
    "    for result in solver('test1.txt'):\n",
    "        print(\"----- Latest solution:\\n\" + \"\\n\".join(result[\"assigned-groups\"]))\n",
    "        print(\"\\nAssignment cost: %d \\n\" % result[\"total-cost\"])"
   ]
  },
  {
   "cell_type": "code",
   "execution_count": 14,
   "id": "eb9de69c",
   "metadata": {
    "scrolled": true
   },
   "outputs": [
    {
     "data": {
      "text/html": [
       "<div>\n",
       "<style scoped>\n",
       "    .dataframe tbody tr th:only-of-type {\n",
       "        vertical-align: middle;\n",
       "    }\n",
       "\n",
       "    .dataframe tbody tr th {\n",
       "        vertical-align: top;\n",
       "    }\n",
       "\n",
       "    .dataframe thead th {\n",
       "        text-align: right;\n",
       "    }\n",
       "</style>\n",
       "<table border=\"1\" class=\"dataframe\">\n",
       "  <thead>\n",
       "    <tr style=\"text-align: right;\">\n",
       "      <th></th>\n",
       "      <th>name</th>\n",
       "      <th>team preference</th>\n",
       "      <th>avoid</th>\n",
       "    </tr>\n",
       "  </thead>\n",
       "  <tbody>\n",
       "    <tr>\n",
       "      <th>0</th>\n",
       "      <td>djcran</td>\n",
       "      <td>djcran-vkvats-nthakurd</td>\n",
       "      <td>sahmaini</td>\n",
       "    </tr>\n",
       "    <tr>\n",
       "      <th>1</th>\n",
       "      <td>sahmaini</td>\n",
       "      <td>sahmaini</td>\n",
       "      <td>_</td>\n",
       "    </tr>\n",
       "    <tr>\n",
       "      <th>2</th>\n",
       "      <td>sulagaop</td>\n",
       "      <td>sulagaop-xxx-xxx</td>\n",
       "      <td>_</td>\n",
       "    </tr>\n",
       "    <tr>\n",
       "      <th>3</th>\n",
       "      <td>fanjun</td>\n",
       "      <td>fanjun-xxx</td>\n",
       "      <td>nthakurd</td>\n",
       "    </tr>\n",
       "    <tr>\n",
       "      <th>4</th>\n",
       "      <td>nthakurd</td>\n",
       "      <td>nthakurd</td>\n",
       "      <td>djcran,fanjun</td>\n",
       "    </tr>\n",
       "    <tr>\n",
       "      <th>5</th>\n",
       "      <td>vkvats</td>\n",
       "      <td>vkvats-sahmaini</td>\n",
       "      <td>_</td>\n",
       "    </tr>\n",
       "  </tbody>\n",
       "</table>\n",
       "</div>"
      ],
      "text/plain": [
       "       name         team preference          avoid\n",
       "0    djcran  djcran-vkvats-nthakurd       sahmaini\n",
       "1  sahmaini                sahmaini              _\n",
       "2  sulagaop        sulagaop-xxx-xxx              _\n",
       "3    fanjun              fanjun-xxx       nthakurd\n",
       "4  nthakurd                nthakurd  djcran,fanjun\n",
       "5    vkvats         vkvats-sahmaini              _"
      ]
     },
     "execution_count": 14,
     "metadata": {},
     "output_type": "execute_result"
    }
   ],
   "source": [
    "import pandas as pd\n",
    "\n",
    "df = pd.read_csv(\"test1.txt\", sep=' ', names = ['name', 'team preference', 'avoid'])\n",
    "#x = df[df['name'] == 'djcran']['team preference']\n",
    "#x.str.split('-')\n",
    "df"
   ]
  },
  {
   "cell_type": "code",
   "execution_count": 2,
   "id": "25bf834a",
   "metadata": {},
   "outputs": [
    {
     "data": {
      "text/plain": [
       "['djcran', 'vkvats', 'nthakurd']"
      ]
     },
     "execution_count": 2,
     "metadata": {},
     "output_type": "execute_result"
    }
   ],
   "source": [
    "df.iloc[0]['team preference'].split('-')"
   ]
  },
  {
   "cell_type": "code",
   "execution_count": 3,
   "id": "604954b1",
   "metadata": {},
   "outputs": [],
   "source": [
    "a_grps = [\"djcran-vkvats-nthakurd\", \"sahmaini\", \"sulagaop-fanjun\"]"
   ]
  },
  {
   "cell_type": "code",
   "execution_count": 4,
   "id": "599bdeb6",
   "metadata": {},
   "outputs": [
    {
     "data": {
      "text/plain": [
       "3"
      ]
     },
     "execution_count": 4,
     "metadata": {},
     "output_type": "execute_result"
    }
   ],
   "source": [
    "len(a_grps[0].split('-'))"
   ]
  },
  {
   "cell_type": "code",
   "execution_count": null,
   "id": "2b909f3c",
   "metadata": {},
   "outputs": [],
   "source": [
    "df['name']"
   ]
  },
  {
   "cell_type": "code",
   "execution_count": null,
   "id": "4dbf28ea",
   "metadata": {},
   "outputs": [],
   "source": [
    "import itertools\n",
    "\n",
    "groups = []\n",
    "\n",
    "for i in range(1, 4):\n",
    "    for a in itertools.combinations(df['name'], i):\n",
    "        groups.append(list(a))"
   ]
  },
  {
   "cell_type": "code",
   "execution_count": null,
   "id": "6348e142",
   "metadata": {},
   "outputs": [],
   "source": [
    "groups[25]"
   ]
  },
  {
   "cell_type": "code",
   "execution_count": null,
   "id": "d368cec2",
   "metadata": {},
   "outputs": [],
   "source": [
    "##student preference\n",
    "##addnewgrp\n",
    "##studentpermutation\n",
    "##totalcost\n",
    "#succ\n",
    "#is_goal\n",
    "#solver"
   ]
  },
  {
   "cell_type": "code",
   "execution_count": null,
   "id": "6bf7b0c8",
   "metadata": {},
   "outputs": [],
   "source": [
    "r = []\n",
    "for i in df['name']:\n",
    "    if i not in groups[25]:\n",
    "        r.append(i)"
   ]
  },
  {
   "cell_type": "code",
   "execution_count": null,
   "id": "6ee7d6ea",
   "metadata": {},
   "outputs": [],
   "source": [
    "for i in range(1, 4):\n",
    "    for a in itertools.combinations(r, i):\n",
    "        print (list(a))"
   ]
  },
  {
   "cell_type": "code",
   "execution_count": null,
   "id": "83e0b8e0",
   "metadata": {},
   "outputs": [],
   "source": [
    "# def successors(s,listOfStudents):\n",
    "#     successor_list = []\n",
    "#     groupList = addNewGrp(s,listOfStudents)\n",
    "#     possible_groups = findPossibleTeamPermutation(groupList,listOfStudents)\n",
    "#     for newgroups in possible_groups:\n",
    "#         tempGroup = [i.copy() for i in s]\n",
    "#         if newgroups not in s:\n",
    "#             tempGroup.append(newgroups)\n",
    "#             successor_list.append(tempGroup)\n",
    "#     return successor_list\n",
    "\n",
    "def succ(slist, name):\n",
    "    \n",
    "    successor_list = []\n",
    "    groupList = addNewGrp(s,listOfStudents)\n",
    "    possible_groups = findPossibleTeamPermutation(groupList,listOfStudents)\n",
    "    for newgroups in possible_groups:\n",
    "        tempGroup = [i.copy() for i in s]\n",
    "        if newgroups not in s:\n",
    "            tempGroup.append(newgroups)\n",
    "            successor_list.append(tempGroup)\n",
    "    return successor_list"
   ]
  },
  {
   "cell_type": "code",
   "execution_count": null,
   "id": "be343263",
   "metadata": {},
   "outputs": [],
   "source": [
    "# #Add a new group to the given list\n",
    "# def addNewGrp(s,listOfStudents):\n",
    "#     listOfGroups = [i.copy() for i in s]\n",
    "#     for student in listOfStudents:\n",
    "#         isStudentTaken = False\n",
    "#         for groups in listOfGroups:\n",
    "#             if student in groups:\n",
    "#                 isStudentTaken = True\n",
    "#                 break # not considering the student if already in a group\n",
    "#         if isStudentTaken:\n",
    "#             continue\n",
    "#         else:\n",
    "#             listOfGroups.append([student])\n",
    "#             break\n",
    "#     return listOfGroups\n",
    "\n",
    "def team_comb(slist, name):\n",
    "    not_assigned = []\n",
    "    groups = []\n",
    "    for i in name:\n",
    "        if i not in slist:\n",
    "            not_assigned.append(i)\n",
    "    \n",
    "    for j in range(1,4):\n",
    "        for k in itertools.combinations(not_assigned, j):\n",
    "            groups.append(list(k))\n",
    "            \n",
    "    return groups"
   ]
  },
  {
   "cell_type": "code",
   "execution_count": null,
   "id": "a07a2f1c",
   "metadata": {},
   "outputs": [],
   "source": [
    "s = [[]]\n",
    "len(s)"
   ]
  },
  {
   "cell_type": "code",
   "execution_count": null,
   "id": "a0c3c085",
   "metadata": {},
   "outputs": [],
   "source": [
    "result_dictionary = {'assigned-groups':[], 'total-cost':0}"
   ]
  },
  {
   "cell_type": "code",
   "execution_count": null,
   "id": "e6477de0",
   "metadata": {},
   "outputs": [],
   "source": [
    "result_dictionary['assigned-groups']"
   ]
  },
  {
   "cell_type": "code",
   "execution_count": null,
   "id": "e6e941aa",
   "metadata": {},
   "outputs": [],
   "source": [
    "import sys\n",
    "sys.maxsize"
   ]
  },
  {
   "cell_type": "code",
   "execution_count": 1,
   "id": "a8b7db94",
   "metadata": {},
   "outputs": [
    {
     "data": {
      "text/plain": [
       "[[]]"
      ]
     },
     "execution_count": 1,
     "metadata": {},
     "output_type": "execute_result"
    }
   ],
   "source": [
    "result_dictionary = {'assigned-groups':[], 'total-cost':0}\n",
    "\n",
    "\n",
    "fringe = [result_dictionary['assigned-groups']]\n",
    "fringe"
   ]
  },
  {
   "cell_type": "code",
   "execution_count": null,
   "id": "1d214745",
   "metadata": {},
   "outputs": [],
   "source": []
  }
 ],
 "metadata": {
  "kernelspec": {
   "display_name": "Python 3",
   "language": "python",
   "name": "python3"
  },
  "language_info": {
   "codemirror_mode": {
    "name": "ipython",
    "version": 3
   },
   "file_extension": ".py",
   "mimetype": "text/x-python",
   "name": "python",
   "nbconvert_exporter": "python",
   "pygments_lexer": "ipython3",
   "version": "3.8.8"
  }
 },
 "nbformat": 4,
 "nbformat_minor": 5
}
